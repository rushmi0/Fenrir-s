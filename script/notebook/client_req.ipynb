{
 "cells": [
  {
   "metadata": {
    "collapsed": true,
    "ExecuteTime": {
     "end_time": "2024-08-21T14:51:29.432252900Z",
     "start_time": "2024-08-21T14:50:56.188790800Z"
    }
   },
   "cell_type": "code",
   "source": [
    "%use ktor-client\n",
    "%use serialization\n",
    "%use dataframe"
   ],
   "outputs": [
    {
     "name": "stdout",
     "output_type": "stream",
     "text": [
      "21:51:02,704 |-INFO in ch.qos.logback.classic.LoggerContext[default] - This is logback-classic version 2.5.2\r\n",
      "21:51:02,705 |-INFO in ch.qos.logback.classic.util.ContextInitializer@239c6596 - No custom configurators were discovered as a service.\r\n",
      "21:51:02,705 |-INFO in ch.qos.logback.classic.util.ContextInitializer@239c6596 - Trying to configure with ch.qos.logback.classic.joran.SerializedModelConfigurator\r\n",
      "21:51:02,706 |-INFO in ch.qos.logback.classic.util.ContextInitializer@239c6596 - Constructed configurator of type class ch.qos.logback.classic.joran.SerializedModelConfigurator\r\n",
      "21:51:02,707 |-INFO in ch.qos.logback.classic.LoggerContext[default] - Could NOT find resource [logback-test.scmo]\r\n",
      "21:51:02,707 |-INFO in ch.qos.logback.classic.LoggerContext[default] - Could NOT find resource [logback.scmo]\r\n",
      "21:51:02,707 |-INFO in ch.qos.logback.classic.util.ContextInitializer@239c6596 - ch.qos.logback.classic.joran.SerializedModelConfigurator.configure() call lasted 1 milliseconds. ExecutionStatus=INVOKE_NEXT_IF_ANY\r\n",
      "21:51:02,707 |-INFO in ch.qos.logback.classic.util.ContextInitializer@239c6596 - Trying to configure with ch.qos.logback.classic.util.DefaultJoranConfigurator\r\n",
      "21:51:02,708 |-INFO in ch.qos.logback.classic.util.ContextInitializer@239c6596 - Constructed configurator of type class ch.qos.logback.classic.util.DefaultJoranConfigurator\r\n",
      "21:51:02,708 |-INFO in ch.qos.logback.classic.LoggerContext[default] - Could NOT find resource [logback-test.xml]\r\n",
      "21:51:02,708 |-INFO in ch.qos.logback.classic.LoggerContext[default] - Found resource [logback.xml] at [jar:file:/C:/Users/Rushm/AppData/Local/JetBrains/IntelliJIdea2024.2/kotlinNotebook/fenrir-s.f56f71e4/kernels/0.12.0-250/kotlin-jupyter-kernel-shadowed-jar/kotlin-jupyter-kernel-shadowed-0.12.0-250.jar!/logback.xml]\r\n",
      "21:51:02,709 |-WARN in ch.qos.logback.classic.util.DefaultJoranConfigurator@9cdab10 - Resource [logback.xml] occurs multiple times on the classpath.\r\n",
      "21:51:02,709 |-WARN in ch.qos.logback.classic.util.DefaultJoranConfigurator@9cdab10 - Resource [logback.xml] occurs at [jar:file:/C:/Users/Rushm/AppData/Local/JetBrains/IntelliJIdea2024.2/kotlinNotebook/fenrir-s.f56f71e4/kernels/0.12.0-250/kotlin-jupyter-kernel-shadowed-jar/kotlin-jupyter-kernel-shadowed-0.12.0-250.jar!/logback.xml]\r\n",
      "21:51:02,709 |-WARN in ch.qos.logback.classic.util.DefaultJoranConfigurator@9cdab10 - Resource [logback.xml] occurs at [jar:file:/C:/Users/Rushm/.gradle/caches/modules-2/files-2.1/io.micronaut.testresources/micronaut-test-resources-server/2.5.2/6ccdd296761c1362800dafc422ace3cf7b5727a4/micronaut-test-resources-server-2.5.2.jar!/logback.xml]\r\n",
      "21:51:02,716 |-INFO in ch.qos.logback.core.joran.spi.ConfigurationWatchList@27e3ef4a - URL [jar:file:/C:/Users/Rushm/AppData/Local/JetBrains/IntelliJIdea2024.2/kotlinNotebook/fenrir-s.f56f71e4/kernels/0.12.0-250/kotlin-jupyter-kernel-shadowed-jar/kotlin-jupyter-kernel-shadowed-0.12.0-250.jar!/logback.xml] is not of type file\r\n",
      "21:51:02,820 |-INFO in ch.qos.logback.core.model.processor.AppenderModelHandler - Processing appender named [STDERR]\r\n",
      "21:51:02,820 |-INFO in ch.qos.logback.core.model.processor.AppenderModelHandler - About to instantiate appender of type [ch.qos.logback.core.ConsoleAppender]\r\n",
      "21:51:02,828 |-INFO in ch.qos.logback.core.model.processor.ImplicitModelHandler - Assuming default type [ch.qos.logback.classic.encoder.PatternLayoutEncoder] for [encoder] property\r\n",
      "21:51:02,851 |-INFO in ch.qos.logback.classic.model.processor.RootLoggerModelHandler - Setting level of ROOT logger to DEBUG\r\n",
      "21:51:02,851 |-INFO in ch.qos.logback.core.model.processor.AppenderRefModelHandler - Attaching appender named [STDERR] to Logger[ROOT]\r\n",
      "21:51:02,852 |-INFO in ch.qos.logback.classic.model.processor.LoggerModelHandler - Setting level of logger [org.apache] to ERROR\r\n",
      "21:51:02,852 |-INFO in ch.qos.logback.classic.model.processor.LoggerModelHandler - Setting level of logger [org.jetbrains.kotlin.org.apache] to ERROR\r\n",
      "21:51:02,852 |-INFO in ch.qos.logback.classic.model.processor.LoggerModelHandler - Setting level of logger [httpclient] to ERROR\r\n",
      "21:51:02,852 |-INFO in ch.qos.logback.classic.model.processor.LoggerModelHandler - Setting level of logger [org.jetbrains.kotlin.httpclient] to ERROR\r\n",
      "21:51:02,852 |-INFO in ch.qos.logback.classic.model.processor.LoggerModelHandler - Setting level of logger [org.eclipse.aether] to DEBUG\r\n",
      "21:51:02,852 |-INFO in ch.qos.logback.classic.model.processor.LoggerModelHandler - Setting level of logger [org.jetbrains.kotlin.org.eclipse.aether] to DEBUG\r\n",
      "21:51:02,852 |-INFO in ch.qos.logback.core.model.processor.DefaultProcessor@4e1c7d83 - End of configuration.\r\n",
      "21:51:02,853 |-INFO in ch.qos.logback.classic.joran.JoranConfigurator@eec1103 - Registering current configuration as safe fallback point\r\n",
      "21:51:02,853 |-INFO in ch.qos.logback.classic.util.ContextInitializer@239c6596 - ch.qos.logback.classic.util.DefaultJoranConfigurator.configure() call lasted 145 milliseconds. ExecutionStatus=DO_NOT_INVOKE_NEXT_IF_ANY\r\n",
      "\r\n"
     ]
    }
   ],
   "execution_count": 1
  },
  {
   "metadata": {
    "ExecuteTime": {
     "end_time": "2024-08-21T14:51:41.533287100Z",
     "start_time": "2024-08-21T14:51:40.815772500Z"
    }
   },
   "cell_type": "code",
   "source": [
    "import io.ktor.client.*\n",
    "import io.ktor.client.call.*\n",
    "import io.ktor.client.request.*\n",
    "import io.ktor.client.statement.*\n",
    "import io.ktor.client.engine.cio.*\n",
    "import io.ktor.http.HttpHeaders\n",
    "import kotlinx.coroutines.runBlocking\n",
    "import kotlinx.serialization.json.*\n",
    "\n",
    "val client = HttpClient(CIO)\n",
    "\n",
    "runBlocking {\n",
    "    val response = client.get(\"https://relay.notoshi.win\") {\n",
    "        headers { append(HttpHeaders.Accept, \"application/nostr+json\") }\n",
    "    }\n",
    "\n",
    "    val body = response.body<String>()\n",
    "    Json.parseToJsonElement(body)\n",
    "}"
   ],
   "outputs": [
    {
     "data": {
      "text/plain": [
       "{\"contact\":\"admin@notoshi.win\",\"description\":\"nostr-relay: Connecting Thailand Communities #siamstr\",\"name\":\"relay.notoshi.win\",\"pubkey\":\"03742c205cb6c8d86031c93bc4a9b3d18484c32c86563fc0e218910a2df9aa5d\",\"software\":\"git+https://github.com/hoytech/strfry.git\",\"supported_nips\":[1,2,4,9,11,12,16,20,22,28,33,40],\"version\":\"0.9.6-26-gc0dec7c\"}"
      ]
     },
     "execution_count": 3,
     "metadata": {},
     "output_type": "execute_result"
    }
   ],
   "execution_count": 3
  },
  {
   "metadata": {
    "ExecuteTime": {
     "end_time": "2024-08-21T05:18:05.490980900Z",
     "start_time": "2024-08-21T05:18:04.360194200Z"
    }
   },
   "cell_type": "code",
   "source": [
    "val boxJson = \"\"\"\n",
    "[\"REQ\",\"hsZEOtaDsENYkP5H-JIWp\",{\"authors\":[\"e4b2c64f0e4e54abb34d5624cd040e05ecc77f0c467cc46e2cc4d5be98abe3e3\"],\"#p\":[\"e4b2c64f0e4e54abb34d5624cd040e05ecc77f0c467cc46e2cc4d5be98abe3e3\"]}]\n",
    "\"\"\"\n",
    "\n",
    "val box = boxJson.deserializeJson()\n",
    "box\n",
    "\n"
   ],
   "outputs": [
    {
     "data": {
      "application/json": [
       "REQ",
       "hsZEOtaDsENYkP5H-JIWp",
       {
        "authors": [
         "e4b2c64f0e4e54abb34d5624cd040e05ecc77f0c467cc46e2cc4d5be98abe3e3"
        ],
        "#p": [
         "e4b2c64f0e4e54abb34d5624cd040e05ecc77f0c467cc46e2cc4d5be98abe3e3"
        ]
       }
      ],
      "text/plain": [
       "[\n",
       "    \"REQ\",\n",
       "    \"hsZEOtaDsENYkP5H-JIWp\",\n",
       "    {\n",
       "        \"authors\": [\n",
       "            \"e4b2c64f0e4e54abb34d5624cd040e05ecc77f0c467cc46e2cc4d5be98abe3e3\"\n",
       "        ],\n",
       "        \"#p\": [\n",
       "            \"e4b2c64f0e4e54abb34d5624cd040e05ecc77f0c467cc46e2cc4d5be98abe3e3\"\n",
       "        ]\n",
       "    }\n",
       "]"
      ],
      "text/markdown": "```json\n[\n    \"REQ\",\n    \"hsZEOtaDsENYkP5H-JIWp\",\n    {\n        \"authors\": [\n            \"e4b2c64f0e4e54abb34d5624cd040e05ecc77f0c467cc46e2cc4d5be98abe3e3\"\n        ],\n        \"#p\": [\n            \"e4b2c64f0e4e54abb34d5624cd040e05ecc77f0c467cc46e2cc4d5be98abe3e3\"\n        ]\n    }\n]\n```"
     },
     "execution_count": 15,
     "metadata": {
      "application/json": {
       "expanded": true
      }
     },
     "output_type": "execute_result"
    }
   ],
   "execution_count": 15
  },
  {
   "metadata": {
    "ExecuteTime": {
     "end_time": "2024-08-21T05:56:51.274406300Z",
     "start_time": "2024-08-21T05:56:50.926474100Z"
    }
   },
   "cell_type": "code",
   "source": [
    "@file:DependsOn(\"com.squareup.okhttp3:okhttp:4.11.0\")\n",
    "@file:DependsOn(\"com.fasterxml.jackson.module:jackson-module-kotlin:2.15.0\")\n",
    "@file:DependsOn(\"org.jetbrains.kotlinx:kotlinx-serialization-json:1.6.0\")\n",
    "\n",
    "import okhttp3.*\n",
    "import java.util.concurrent.TimeUnit\n",
    "import com.fasterxml.jackson.module.kotlin.jacksonObjectMapper\n",
    "import kotlinx.serialization.json.Json\n",
    "import kotlinx.serialization.json.JsonArray\n",
    "import kotlinx.serialization.json.jsonArray\n",
    "import kotlinx.serialization.json.jsonPrimitive\n",
    "import kotlinx.serialization.json.jsonObject\n",
    "import kotlinx.serialization.Serializable\n",
    "\n",
    "@Serializable\n",
    "data class Event(\n",
    "    val id: String? = null,\n",
    "    val pubkey: String? = null,\n",
    "    val created_at: Long? = null,\n",
    "    val kind: Long? = null,\n",
    "    val tags: List<List<String>>? = null,\n",
    "    val content: String? = null,\n",
    "    val sig: String? = null\n",
    ")\n",
    "\n",
    "\n",
    "// Function to convert a JSON string to a JsonArray\n",
    "fun String.toJsonEltArray(): JsonArray {\n",
    "    val json = Json { ignoreUnknownKeys = true }\n",
    "    return json.parseToJsonElement(this).jsonArray\n",
    "}\n",
    "\n",
    "\n",
    "val client = OkHttpClient.Builder()\n",
    "    .readTimeout(0, TimeUnit.MILLISECONDS)\n",
    "    .build()\n",
    "\n",
    "val sourceList = listOf(\n",
    "    \"wss://relay.notoshi.win\",\n",
    "    \"wss://relay.siamstr.com\",\n",
    "    \"wss://relay.damus.io\",\n",
    "    \"wss://relay.nostr.band\",\n",
    "    \"wss://nostr-01.yakihonne.com\",\n",
    "    \"wss://nos.lol\",\n",
    "    \"wss://purplerelay.com\"\n",
    ")\n",
    "\n",
    "val publicKey = \"e4b2c64f0e4e54abb34d5624cd040e05ecc77f0c467cc46e2cc4d5be98abe3e3\"\n",
    "val reqList = listOf(\"\"\"[\"REQ\",\"fffff\",{\"authors\":[\"$publicKey\"],\"kinds\":[3]}]\"\"\")\n",
    "\n",
    "fun sync() {\n",
    "    if (sourceList.isNotEmpty()) {\n",
    "        sourceList.forEach { url ->\n",
    "            val request: Request = Request.Builder().url(url).build()\n",
    "            client.newWebSocket(request, SyncData())\n",
    "        }\n",
    "    }\n",
    "}\n",
    "\n",
    "private inner class SyncData : WebSocketListener() {\n",
    "\n",
    "    override fun onOpen(webSocket: WebSocket, response: Response) {\n",
    "        reqList.forEach { request ->\n",
    "            webSocket.send(request.replace(\"\\$publicKey\", publicKey))\n",
    "        }\n",
    "    }\n",
    "\n",
    "    override fun onMessage(webSocket: WebSocket, text: String) {\n",
    "        val data = text.toJsonEltArray()\n",
    "        if (data.isNotEmpty() && data[0].jsonPrimitive.content == \"EVENT\") {\n",
    "            val res = data[2].jsonObject\n",
    "            println(res)\n",
    "            \n",
    "            val event: Event = eventJson.toEvent()\n",
    "        } \n",
    "    }\n",
    "\n",
    "    override fun onClosed(webSocket: WebSocket, code: Int, reason: String) {\n",
    "        println(\"WebSocket connection closed: $reason\")\n",
    "    }\n",
    "}\n",
    "\n",
    "// Start the synchronization process\n",
    "sync()\n"
   ],
   "outputs": [],
   "execution_count": 80
  },
  {
   "metadata": {
    "ExecuteTime": {
     "end_time": "2024-08-21T05:56:29.137087100Z",
     "start_time": "2024-08-21T05:56:28.716741700Z"
    }
   },
   "cell_type": "code",
   "source": "",
   "outputs": [],
   "execution_count": 79
  }
 ],
 "metadata": {
  "kernelspec": {
   "display_name": "Kotlin",
   "language": "kotlin",
   "name": "kotlin"
  },
  "language_info": {
   "name": "kotlin",
   "version": "1.9.23",
   "mimetype": "text/x-kotlin",
   "file_extension": ".kt",
   "pygments_lexer": "kotlin",
   "codemirror_mode": "text/x-kotlin",
   "nbconvert_exporter": ""
  }
 },
 "nbformat": 4,
 "nbformat_minor": 0
}
