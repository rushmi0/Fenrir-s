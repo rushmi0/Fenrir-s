{
 "cells": [
  {
   "metadata": {
    "collapsed": true,
    "ExecuteTime": {
     "end_time": "2024-08-21T05:32:15.159825600Z",
     "start_time": "2024-08-21T05:31:56.382942500Z"
    }
   },
   "cell_type": "code",
   "source": [
    "\n",
    "%use ktor-client\n",
    "%use serialization\n",
    "%use dataframe\n"
   ],
   "outputs": [],
   "execution_count": 45
  },
  {
   "metadata": {
    "ExecuteTime": {
     "end_time": "2024-08-21T05:35:35.651009600Z",
     "start_time": "2024-08-21T05:35:35.486183100Z"
    }
   },
   "cell_type": "code",
   "source": [
    "import io.ktor.client.*\n",
    "import io.ktor.client.call.*\n",
    "import io.ktor.client.request.*\n",
    "import io.ktor.client.statement.*\n",
    "import io.ktor.client.engine.cio.*\n",
    "import io.ktor.http.HttpHeaders\n",
    "import kotlinx.coroutines.runBlocking\n",
    "import kotlinx.serialization.json.*\n",
    "\n",
    "val client = HttpClient(CIO)\n",
    "\n",
    "runBlocking {\n",
    "    val response = client.get(\"https://relay.notoshi.win\") {\n",
    "        headers { append(HttpHeaders.Accept, \"application/nostr+json\") }\n",
    "    }\n",
    "\n",
    "    val body = response.body<String>()\n",
    "    //Json.parseToJsonElement(body)\n",
    "}\n"
   ],
   "outputs": [
    {
     "data": {
      "application/json": {
       "contact": "admin@notoshi.win",
       "description": "nostr-relay: Connecting Thailand Communities #siamstr",
       "name": "relay.notoshi.win",
       "pubkey": "03742c205cb6c8d86031c93bc4a9b3d18484c32c86563fc0e218910a2df9aa5d",
       "software": "git+https://github.com/hoytech/strfry.git",
       "supported_nips": [
        1,
        2,
        4,
        9,
        11,
        12,
        16,
        20,
        22,
        28,
        33,
        40
       ],
       "version": "0.9.6-26-gc0dec7c"
      },
      "text/plain": [
       "{\n",
       "    \"contact\": \"admin@notoshi.win\",\n",
       "    \"description\": \"nostr-relay: Connecting Thailand Communities #siamstr\",\n",
       "    \"name\": \"relay.notoshi.win\",\n",
       "    \"pubkey\": \"03742c205cb6c8d86031c93bc4a9b3d18484c32c86563fc0e218910a2df9aa5d\",\n",
       "    \"software\": \"git+https://github.com/hoytech/strfry.git\",\n",
       "    \"supported_nips\": [\n",
       "        1,\n",
       "        2,\n",
       "        4,\n",
       "        9,\n",
       "        11,\n",
       "        12,\n",
       "        16,\n",
       "        20,\n",
       "        22,\n",
       "        28,\n",
       "        33,\n",
       "        40\n",
       "    ],\n",
       "    \"version\": \"0.9.6-26-gc0dec7c\"\n",
       "}"
      ],
      "text/markdown": "```json\n{\n    \"contact\": \"admin@notoshi.win\",\n    \"description\": \"nostr-relay: Connecting Thailand Communities #siamstr\",\n    \"name\": \"relay.notoshi.win\",\n    \"pubkey\": \"03742c205cb6c8d86031c93bc4a9b3d18484c32c86563fc0e218910a2df9aa5d\",\n    \"software\": \"git+https://github.com/hoytech/strfry.git\",\n    \"supported_nips\": [\n        1,\n        2,\n        4,\n        9,\n        11,\n        12,\n        16,\n        20,\n        22,\n        28,\n        33,\n        40\n    ],\n    \"version\": \"0.9.6-26-gc0dec7c\"\n}\n```"
     },
     "execution_count": 59,
     "metadata": {
      "application/json": {
       "expanded": true
      }
     },
     "output_type": "execute_result"
    }
   ],
   "execution_count": 59
  },
  {
   "metadata": {
    "ExecuteTime": {
     "end_time": "2024-08-21T05:18:05.490980900Z",
     "start_time": "2024-08-21T05:18:04.360194200Z"
    }
   },
   "cell_type": "code",
   "source": [
    "val boxJson = \"\"\"\n",
    "[\"REQ\",\"hsZEOtaDsENYkP5H-JIWp\",{\"authors\":[\"e4b2c64f0e4e54abb34d5624cd040e05ecc77f0c467cc46e2cc4d5be98abe3e3\"],\"#p\":[\"e4b2c64f0e4e54abb34d5624cd040e05ecc77f0c467cc46e2cc4d5be98abe3e3\"]}]\n",
    "\"\"\"\n",
    "\n",
    "val box = boxJson.deserializeJson()\n",
    "box\n",
    "\n"
   ],
   "outputs": [
    {
     "data": {
      "application/json": [
       "REQ",
       "hsZEOtaDsENYkP5H-JIWp",
       {
        "authors": [
         "e4b2c64f0e4e54abb34d5624cd040e05ecc77f0c467cc46e2cc4d5be98abe3e3"
        ],
        "#p": [
         "e4b2c64f0e4e54abb34d5624cd040e05ecc77f0c467cc46e2cc4d5be98abe3e3"
        ]
       }
      ],
      "text/plain": [
       "[\n",
       "    \"REQ\",\n",
       "    \"hsZEOtaDsENYkP5H-JIWp\",\n",
       "    {\n",
       "        \"authors\": [\n",
       "            \"e4b2c64f0e4e54abb34d5624cd040e05ecc77f0c467cc46e2cc4d5be98abe3e3\"\n",
       "        ],\n",
       "        \"#p\": [\n",
       "            \"e4b2c64f0e4e54abb34d5624cd040e05ecc77f0c467cc46e2cc4d5be98abe3e3\"\n",
       "        ]\n",
       "    }\n",
       "]"
      ],
      "text/markdown": "```json\n[\n    \"REQ\",\n    \"hsZEOtaDsENYkP5H-JIWp\",\n    {\n        \"authors\": [\n            \"e4b2c64f0e4e54abb34d5624cd040e05ecc77f0c467cc46e2cc4d5be98abe3e3\"\n        ],\n        \"#p\": [\n            \"e4b2c64f0e4e54abb34d5624cd040e05ecc77f0c467cc46e2cc4d5be98abe3e3\"\n        ]\n    }\n]\n```"
     },
     "execution_count": 15,
     "metadata": {
      "application/json": {
       "expanded": true
      }
     },
     "output_type": "execute_result"
    }
   ],
   "execution_count": 15
  },
  {
   "metadata": {
    "ExecuteTime": {
     "end_time": "2024-08-21T05:38:56.314861800Z",
     "start_time": "2024-08-21T05:38:55.838392500Z"
    }
   },
   "cell_type": "code",
   "source": [
    "@file:DependsOn(\"com.squareup.okhttp3:okhttp:4.11.0\")\n",
    "@file:DependsOn(\"com.fasterxml.jackson.module:jackson-module-kotlin:2.15.0\")\n",
    "@file:DependsOn(\"org.jetbrains.kotlinx:kotlinx-serialization-json:1.6.0\")\n",
    "\n",
    "import okhttp3.*\n",
    "import java.util.concurrent.TimeUnit\n",
    "import com.fasterxml.jackson.module.kotlin.jacksonObjectMapper\n",
    "import kotlinx.serialization.json.Json\n",
    "import kotlinx.serialization.json.JsonArray\n",
    "import kotlinx.serialization.json.jsonArray\n",
    "import kotlinx.serialization.json.jsonPrimitive\n",
    "import kotlinx.serialization.json.jsonObject\n",
    "\n",
    "// Function to convert a JSON string to a JsonArray\n",
    "fun String.toJsonEltArray(): JsonArray {\n",
    "    val json = Json { ignoreUnknownKeys = true }\n",
    "    return json.parseToJsonElement(this).jsonArray\n",
    "}\n",
    "\n",
    "// Function to convert any object to a JSON string\n",
    "fun Any.toJsonString(): String {\n",
    "    return jacksonObjectMapper().writeValueAsString(this)\n",
    "}\n",
    "\n",
    "val client = OkHttpClient.Builder()\n",
    "    .readTimeout(0, TimeUnit.MILLISECONDS)\n",
    "    .build()\n",
    "\n",
    "val sourceList = listOf(\n",
    "    \"wss://relay.notoshi.win\",\n",
    "    \"wss://relay.siamstr.com\",\n",
    "    \"wss://relay.damus.io\",\n",
    "    \"wss://relay.nostr.band\",\n",
    "    \"wss://nostr-01.yakihonne.com\",\n",
    "    \"wss://nos.lol\",\n",
    "    \"wss://purplerelay.com\"\n",
    ")\n",
    "\n",
    "val publicKey = \"e4b2c64f0e4e54abb34d5624cd040e05ecc77f0c467cc46e2cc4d5be98abe3e3\"\n",
    "val reqList = listOf(\"\"\"[\"REQ\",\"fffff\",{\"authors\":[\"$publicKey\"],\"kinds\":[3]}]\"\"\")\n",
    "\n",
    "fun sync() {\n",
    "    if (sourceList.isNotEmpty()) {\n",
    "        sourceList.forEach { url ->\n",
    "            val request: Request = Request.Builder().url(url).build()\n",
    "            client.newWebSocket(request, SyncData())\n",
    "        }\n",
    "    }\n",
    "}\n",
    "\n",
    "private inner class SyncData : WebSocketListener() {\n",
    "\n",
    "    override fun onOpen(webSocket: WebSocket, response: Response) {\n",
    "        reqList.forEach { request ->\n",
    "            webSocket.send(request.replace(\"\\$publicKey\", publicKey))\n",
    "        }\n",
    "    }\n",
    "\n",
    "    override fun onMessage(webSocket: WebSocket, text: String) {\n",
    "        val data = text.toJsonEltArray()\n",
    "        if (data.isNotEmpty() && data[0].jsonPrimitive.content == \"EVENT\") {\n",
    "            val res = data[2].jsonObject\n",
    "            println(res)\n",
    "        } \n",
    "    }\n",
    "\n",
    "    override fun onClosed(webSocket: WebSocket, code: Int, reason: String) {\n",
    "        println(\"WebSocket connection closed: $reason\")\n",
    "    }\n",
    "}\n",
    "\n",
    "// Start the synchronization process\n",
    "sync()\n"
   ],
   "outputs": [],
   "execution_count": 64
  },
  {
   "metadata": {},
   "cell_type": "code",
   "outputs": [],
   "execution_count": null,
   "source": ""
  }
 ],
 "metadata": {
  "kernelspec": {
   "display_name": "Kotlin",
   "language": "kotlin",
   "name": "kotlin"
  },
  "language_info": {
   "name": "kotlin",
   "version": "1.9.23",
   "mimetype": "text/x-kotlin",
   "file_extension": ".kt",
   "pygments_lexer": "kotlin",
   "codemirror_mode": "text/x-kotlin",
   "nbconvert_exporter": ""
  }
 },
 "nbformat": 4,
 "nbformat_minor": 0
}
