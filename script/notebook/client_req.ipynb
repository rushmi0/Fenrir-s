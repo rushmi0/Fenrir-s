{
 "cells": [
  {
   "metadata": {
    "collapsed": true,
    "ExecuteTime": {
     "end_time": "2024-08-20T12:18:07.295623700Z",
     "start_time": "2024-08-20T12:17:56.827787Z"
    }
   },
   "cell_type": "code",
   "source": [
    "%use ktor-client\n",
    "%use serialization\n",
    "%use dataframe"
   ],
   "outputs": [],
   "execution_count": 6
  },
  {
   "metadata": {
    "ExecuteTime": {
     "end_time": "2024-08-20T12:18:36.161726200Z",
     "start_time": "2024-08-20T12:18:35.597625200Z"
    }
   },
   "cell_type": "code",
   "source": [
    "import io.ktor.client.*\n",
    "import io.ktor.client.call.*\n",
    "import io.ktor.client.request.*\n",
    "import io.ktor.client.statement.*\n",
    "import io.ktor.client.engine.cio.*\n",
    "import io.ktor.http.HttpHeaders\n",
    "import kotlinx.coroutines.runBlocking\n",
    "import kotlinx.serialization.json.*\n",
    "\n",
    "val client = HttpClient(CIO)\n",
    "\n",
    "runBlocking {\n",
    "    val response = client.get(\"https://relay.notoshi.win\") {\n",
    "        headers { append(HttpHeaders.Accept, \"application/nostr+json\") }\n",
    "    }\n",
    "\n",
    "    val body = response.body<String>()\n",
    "    Json.parseToJsonElement(body)\n",
    "}\n"
   ],
   "outputs": [
    {
     "data": {
      "text/plain": [
       "{\"contact\":\"admin@notoshi.win\",\"description\":\"nostr-relay: Connecting Thailand Communities #siamstr\",\"name\":\"relay.notoshi.win\",\"pubkey\":\"03742c205cb6c8d86031c93bc4a9b3d18484c32c86563fc0e218910a2df9aa5d\",\"software\":\"git+https://github.com/hoytech/strfry.git\",\"supported_nips\":[1,2,4,9,11,12,16,20,22,28,33,40],\"version\":\"0.9.6-26-gc0dec7c\"}"
      ]
     },
     "execution_count": 7,
     "metadata": {},
     "output_type": "execute_result"
    }
   ],
   "execution_count": 7
  },
  {
   "metadata": {
    "ExecuteTime": {
     "end_time": "2024-08-20T12:18:55.096094100Z",
     "start_time": "2024-08-20T12:18:54.680371300Z"
    }
   },
   "cell_type": "code",
   "source": [
    "val boxJson = \"\"\"\n",
    "[\"REQ\",\"hsZEOtaDsENYkP5H-JIWp\",{\"authors\":[\"e4b2c64f0e4e54abb34d5624cd040e05ecc77f0c467cc46e2cc4d5be98abe3e3\"],\"#p\":[\"e4b2c64f0e4e54abb34d5624cd040e05ecc77f0c467cc46e2cc4d5be98abe3e3\"]}]\n",
    "\"\"\"\n",
    "\n",
    "val box = boxJson.deserializeJson()\n",
    "box\n",
    "\n"
   ],
   "outputs": [
    {
     "data": {
      "application/json": [
       "REQ",
       "hsZEOtaDsENYkP5H-JIWp",
       {
        "authors": [
         "e4b2c64f0e4e54abb34d5624cd040e05ecc77f0c467cc46e2cc4d5be98abe3e3"
        ],
        "#p": [
         "e4b2c64f0e4e54abb34d5624cd040e05ecc77f0c467cc46e2cc4d5be98abe3e3"
        ]
       }
      ],
      "text/plain": [
       "[\n",
       "    \"REQ\",\n",
       "    \"hsZEOtaDsENYkP5H-JIWp\",\n",
       "    {\n",
       "        \"authors\": [\n",
       "            \"e4b2c64f0e4e54abb34d5624cd040e05ecc77f0c467cc46e2cc4d5be98abe3e3\"\n",
       "        ],\n",
       "        \"#p\": [\n",
       "            \"e4b2c64f0e4e54abb34d5624cd040e05ecc77f0c467cc46e2cc4d5be98abe3e3\"\n",
       "        ]\n",
       "    }\n",
       "]"
      ],
      "text/markdown": "```json\n[\n    \"REQ\",\n    \"hsZEOtaDsENYkP5H-JIWp\",\n    {\n        \"authors\": [\n            \"e4b2c64f0e4e54abb34d5624cd040e05ecc77f0c467cc46e2cc4d5be98abe3e3\"\n        ],\n        \"#p\": [\n            \"e4b2c64f0e4e54abb34d5624cd040e05ecc77f0c467cc46e2cc4d5be98abe3e3\"\n        ]\n    }\n]\n```"
     },
     "execution_count": 8,
     "metadata": {
      "application/json": {
       "expanded": true
      }
     },
     "output_type": "execute_result"
    }
   ],
   "execution_count": 8
  }
 ],
 "metadata": {
  "kernelspec": {
   "display_name": "Kotlin",
   "language": "kotlin",
   "name": "kotlin"
  },
  "language_info": {
   "name": "kotlin",
   "version": "1.9.23",
   "mimetype": "text/x-kotlin",
   "file_extension": ".kt",
   "pygments_lexer": "kotlin",
   "codemirror_mode": "text/x-kotlin",
   "nbconvert_exporter": ""
  }
 },
 "nbformat": 4,
 "nbformat_minor": 0
}
